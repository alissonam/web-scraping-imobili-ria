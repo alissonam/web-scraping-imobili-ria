{
 "cells": [
  {
   "cell_type": "code",
   "execution_count": 1,
   "metadata": {
    "collapsed": true,
    "pycharm": {
     "name": "#%%\n"
    }
   },
   "outputs": [],
   "source": [
    "# 1\n",
    "from bs4 import BeautifulSoup\n",
    "import requests\n",
    "import re"
   ]
  },
  {
   "cell_type": "code",
   "execution_count": 2,
   "metadata": {
    "collapsed": false,
    "pycharm": {
     "name": "#%%\n"
    }
   },
   "outputs": [],
   "source": [
    "# 2\n",
    "agent = {\"User-Agent\":\"Agente Magico\"}"
   ]
  },
  {
   "cell_type": "code",
   "execution_count": 3,
   "metadata": {
    "collapsed": false,
    "pycharm": {
     "name": "#%%\n"
    }
   },
   "outputs": [],
   "source": [
    "# 3\n",
    "def getLastPageVenda():\n",
    "    controle_certo = \"<h2>Não encontramos imóveis para a sua busca</h2>\"\n",
    "    controle = \"\"\n",
    "    pagina = 1\n",
    "    last_page = 0\n",
    "    while controle != controle_certo:\n",
    "        url = \"https://www.santaimoveissm.com.br/imoveis/a-venda?&pagina=\"+ str(pagina)\n",
    "\n",
    "        resposta = requests.get(url, headers=agent)\n",
    "        soup = BeautifulSoup(resposta.text, 'html')\n",
    "        controle = str(soup.h2)\n",
    "        pagina = pagina + 1\n",
    "        last_page = pagina - 2\n",
    "\n",
    "    return last_page"
   ]
  },
  {
   "cell_type": "code",
   "execution_count": 4,
   "metadata": {
    "collapsed": false,
    "pycharm": {
     "name": "#%%\n"
    }
   },
   "outputs": [],
   "source": [
    "# 4\n",
    "def getLastPageAluguel():\n",
    "    controle_certo = \"<h2>Não encontramos imóveis para a sua busca</h2>\"\n",
    "    controle = \"\"\n",
    "    pagina = 1\n",
    "    last_page = 0\n",
    "    while controle != controle_certo:\n",
    "        url = \"https://www.santaimoveissm.com.br/imoveis/alugar?&pagina=\"+ str(pagina)\n",
    "\n",
    "        resposta = requests.get(url, headers=agent)\n",
    "        soup = BeautifulSoup(resposta.text, 'html')\n",
    "        controle = str(soup.h2)\n",
    "        pagina = pagina + 1\n",
    "        last_page = pagina - 2\n",
    "\n",
    "    return last_page"
   ]
  },
  {
   "cell_type": "code",
   "execution_count": 5,
   "metadata": {
    "collapsed": false,
    "pycharm": {
     "name": "#%%\n"
    }
   },
   "outputs": [],
   "source": [
    "# 5\n",
    "def getLinksAluguel():\n",
    "\n",
    "    imoveis_aluguel = []\n",
    "\n",
    "    for i in range(0,getLastPageAluguel() + 1):\n",
    "        url = \"https://www.santaimoveissm.com.br/imoveis/alugar?&pagina=\" + str(i)\n",
    "\n",
    "        resposta = requests.get(url, headers=agent)\n",
    "        soup = BeautifulSoup(resposta.text, 'html')\n",
    "\n",
    "        for link in soup.find_all('a', href = True):\n",
    "            if \"/imovel/\" in link['href']:\n",
    "                imoveis_aluguel.append(link['href'])\n",
    "\n",
    "    imoveis_aluguel = set(imoveis_aluguel)\n",
    "\n",
    "    return list(imoveis_aluguel)"
   ]
  },
  {
   "cell_type": "code",
   "execution_count": 6,
   "metadata": {
    "collapsed": false,
    "pycharm": {
     "name": "#%%\n"
    }
   },
   "outputs": [],
   "source": [
    "# 6\n",
    "def getLinksVenda():\n",
    "\n",
    "    imoveis_venda = []\n",
    "\n",
    "    #Está imobiliaria contem muitas paginas de venda, mais de 100 entao a coleta demora muito, por isso deixei com 2\n",
    "    for i in range(0, 2):\n",
    "        url = \"https://www.santaimoveissm.com.br/imoveis/a-venda?&pagina=\" + str(i)\n",
    "\n",
    "        resposta = requests.get(url, headers=agent)\n",
    "        soup = BeautifulSoup(resposta.text, 'html')\n",
    "\n",
    "        for link in soup.find_all('a', href = True):\n",
    "            if \"/imovel/\" in link['href']:\n",
    "                imoveis_venda.append(link['href'])\n",
    "\n",
    "    imoveis_venda = set(imoveis_venda)\n",
    "\n",
    "    return list(imoveis_venda)"
   ]
  },
  {
   "cell_type": "code",
   "execution_count": 7,
   "metadata": {
    "collapsed": false,
    "pycharm": {
     "name": "#%%\n"
    }
   },
   "outputs": [],
   "source": [
    "# 7\n",
    "imoveis_venda = getLinksVenda()"
   ]
  },
  {
   "cell_type": "code",
   "execution_count": 8,
   "metadata": {
    "collapsed": false,
    "pycharm": {
     "name": "#%%\n"
    }
   },
   "outputs": [
    {
     "data": {
      "text/plain": [
       "['https://www.santaimoveissm.com.br/imovel/casa-3-dormitorios-a-venda-camobi-santa-maria/80015',\n",
       " 'https://www.santaimoveissm.com.br/imovel/terreno-a-venda-sao-jose-santa-maria/07771',\n",
       " 'https://www.santaimoveissm.com.br/imovel/casa-de-condominio-3-dormitorios-a-venda-nossa-senhora-de-lourdes-santa-maria/201234',\n",
       " 'https://www.santaimoveissm.com.br/imovel/terreno-a-venda-nossa-senhora-do-rosario-santa-maria/30017',\n",
       " 'https://www.santaimoveissm.com.br/imovel/terreno-a-venda-juscelino-kubitschek-santa-maria/50052',\n",
       " 'https://www.santaimoveissm.com.br/imovel/apartamento-3-dormitorios-a-venda-bonfim-santa-maria/20931',\n",
       " 'https://www.santaimoveissm.com.br/imovel/casa-2-dormitorios-a-venda-nossa-senhora-de-lourdes-santa-maria/779231',\n",
       " 'https://www.santaimoveissm.com.br/imovel/casa-de-condominio-2-dormitorios-a-venda-nossa-senhora-de-lourdes-santa-maria/200579179',\n",
       " 'https://www.santaimoveissm.com.br/imovel/apartamento-2-dormitorios-a-venda-nossa-senhora-de-fatima-santa-maria/79181',\n",
       " 'https://www.santaimoveissm.com.br/imovel/casa-3-dormitorios-a-venda-camobi-santa-maria/07923',\n",
       " 'https://www.santaimoveissm.com.br/imovel/casa-5-dormitorios-a-venda-sao-jose-santa-maria/20044',\n",
       " 'https://www.santaimoveissm.com.br/imovel/apartamento-2-dormitorios-a-venda-nossa-senhora-medianeira-santa-maria/29134']"
      ]
     },
     "execution_count": 8,
     "metadata": {},
     "output_type": "execute_result"
    }
   ],
   "source": [
    "# 8\n",
    "imoveis_venda"
   ]
  },
  {
   "cell_type": "code",
   "execution_count": 9,
   "metadata": {
    "collapsed": false,
    "pycharm": {
     "name": "#%%\n"
    }
   },
   "outputs": [
    {
     "data": {
      "text/plain": [
       "12"
      ]
     },
     "execution_count": 9,
     "metadata": {},
     "output_type": "execute_result"
    }
   ],
   "source": [
    "# 9\n",
    "len(imoveis_venda)"
   ]
  },
  {
   "cell_type": "code",
   "execution_count": 10,
   "metadata": {
    "collapsed": false,
    "pycharm": {
     "name": "#%%\n"
    }
   },
   "outputs": [
    {
     "data": {
      "text/plain": [
       "'https://www.santaimoveissm.com.br/imovel/casa-3-dormitorios-a-venda-camobi-santa-maria/80015'"
      ]
     },
     "execution_count": 10,
     "metadata": {},
     "output_type": "execute_result"
    }
   ],
   "source": [
    "# 10\n",
    "list(imoveis_venda)[0]"
   ]
  },
  {
   "cell_type": "code",
   "execution_count": 11,
   "metadata": {
    "collapsed": false,
    "pycharm": {
     "name": "#%%\n"
    }
   },
   "outputs": [
    {
     "name": "stdout",
     "output_type": "stream",
     "text": [
      "[<strong class=\"text text-very-large\">R$ 742.000</strong>]\n",
      "[<div class=\"imovel-info-box-content\"> <h1 class=\"imovel-title\">Casa com 3 dormitórios em Camobi</h1> <div> <small>Ref.: 80015</small> </div> </div>, <div class=\"imovel-info-box-content notranslate\"> <p></p><p><strong>Camobi</strong></p><p>Santa Maria -  RS</p> </div>, <div class=\"imovel-info-box-content\"> <div class=\"imovel-header-item imovel-header-icon\"> <i class=\"imovel-icon far fa-house\"></i> <small class=\"text\">Área construída</small> <strong class=\"text\">156,29 m²</strong> </div> <div class=\"imovel-header-item imovel-header-icon\"> <i class=\"imovel-icon far fa-house-user\"></i> <small class=\"text\">Área privativa</small> <strong class=\"text\">87,60 m²</strong> </div> <div class=\"imovel-header-item imovel-header-icon\"> <i class=\"imovel-icon fa fa-bed\"></i> <small class=\"text\">Quartos</small> <strong class=\"text\">3</strong> </div> <div class=\"imovel-header-item imovel-header-icon\"> <i class=\"imovel-icon fas fa-bath\"></i> <small class=\"text\">Banheiros</small> <strong class=\"text\">2</strong> </div> <div class=\"imovel-header-item imovel-header-icon\"> <i class=\"imovel-icon fa fa-car\"></i> <small class=\"text\">Vagas</small> <strong class=\"text\">3</strong> </div> </div>, <div class=\"imovel-info-box-content\"> <div class=\"imovel-header-item\"> <small class=\"text\">Venda (Financiável)</small> <strong class=\"text text-very-large\">R$ 742.000</strong> </div> </div>]\n",
      "[<div class=\"list-group edge\"> <div class=\"list-group-item\"> <h3 class=\"section-subtitle\">Descrição</h3> <pre>Santa apresenta: casa em Camobi, próximo a farmácia e supermercado.\n",
      "Vaga de garagem para até 3 veículos, com churrasqueira e pátio.\n",
      "Agende a sua visita com um de nossos corretores.</pre> </div> <div class=\"list-group-item\"> <h3 class=\"section-subtitle\">Características</h3> <ul class=\"simple-list clear-fix\"> <li class=\"list-item\">Fundos: 10,00m</li> <li class=\"list-item\">Lado direito: 30,00m</li> <li class=\"list-item\">Lado esquerdo: 30,00m</li> <li class=\"list-item\">Largura: 10,00m</li> <li class=\"list-item\">Piso cerâmico, parquê</li> <li class=\"list-item\">Posição frente</li> <li class=\"list-item\">Sol leste</li> </ul> </div> <div class=\"list-group-item\"> <h3 class=\"section-subtitle\">Comodidades</h3> <ul class=\"simple-list clear-fix\"> <li class=\"list-item\">Área de serviço</li> <li class=\"list-item\">Banheiro auxiliar</li> <li class=\"list-item\">Banheiro social</li> <li class=\"list-item\">Churrasqueira</li> <li class=\"list-item\">Cozinha</li> <li class=\"list-item\">Escritório</li> <li class=\"list-item\">Lareira</li> <li class=\"list-item\">Muro</li> <li class=\"list-item\">Pátio</li> </ul> </div> </div>]\n"
     ]
    }
   ],
   "source": [
    "# 11\n",
    "url = list(imoveis_venda)[0]\n",
    "resposta = requests.get(url, headers=agent)\n",
    "soup = BeautifulSoup(resposta.text, 'html')\n",
    "\n",
    "preco = soup.find_all('strong',{'class':'text text-very-large'})\n",
    "\n",
    "informacoes  = soup.find_all('div', {'class':'imovel-info-box-content'})\n",
    "\n",
    "informacoes2 = soup.find_all('div', {'class':'list-group edge'})\n",
    "\n",
    "spans = soup.find_all('span')\n",
    "\n",
    "\n",
    "print(preco)\n",
    "print(informacoes)\n",
    "print(informacoes2)\n",
    "\n",
    "\n"
   ]
  },
  {
   "cell_type": "code",
   "execution_count": 12,
   "metadata": {
    "collapsed": false,
    "pycharm": {
     "name": "#%%\n"
    }
   },
   "outputs": [
    {
     "name": "stdout",
     "output_type": "stream",
     "text": [
      "[<strong class=\"text text-very-large\">R$ 160.000</strong>]\n",
      "[<div class=\"imovel-info-box-content\"> <h1 class=\"imovel-title\">Santa Imóveis apresenta uma oportunidade , terreno no bairro de São José em Camobi.</h1> <div> <small>Ref.: 07771</small> </div> </div>, <div class=\"imovel-info-box-content notranslate\"> <p></p><p><strong>São José</strong></p><p>Santa Maria -  RS</p> </div>, <div class=\"imovel-info-box-content\"> <div class=\"imovel-header-item imovel-header-icon\"> <i class=\"imovel-icon fas fa-vector-square\"></i> <small class=\"text\">Área do terreno</small> <strong class=\"text\">476,67 m²</strong> </div> </div>, <div class=\"imovel-info-box-content\"> <div class=\"imovel-header-item\"> <small class=\"text\">Venda</small> <strong class=\"text text-very-large\">R$ 160.000</strong> </div> </div>]\n",
      "[<div class=\"list-group edge\"> <div class=\"list-group-item\"> <h3 class=\"section-subtitle\">Características</h3> <ul class=\"simple-list clear-fix\"> <li class=\"list-item\">Fundos: 15,00m</li> <li class=\"list-item\">Lado direito: 32,00m</li> <li class=\"list-item\">Lado esquerdo: 32,00m</li> <li class=\"list-item\">Largura: 15,00m</li> </ul> </div> </div>]\n"
     ]
    }
   ],
   "source": [
    "# 12\n",
    "url = list(imoveis_venda)[1]\n",
    "resposta = requests.get(url, headers=agent)\n",
    "soup = BeautifulSoup(resposta.text, 'html')\n",
    "\n",
    "preco = soup.find_all('strong',{'class':'text text-very-large'})\n",
    "\n",
    "informacoes  = soup.find_all('div', {'class':'imovel-info-box-content'})\n",
    "\n",
    "informacoes2 = soup.find_all('div', {'class':'list-group edge'})\n",
    "\n",
    "spans = soup.find_all('span')\n",
    "\n",
    "\n",
    "print(preco)\n",
    "print(informacoes)\n",
    "print(informacoes2)"
   ]
  },
  {
   "cell_type": "code",
   "execution_count": 13,
   "metadata": {
    "collapsed": false,
    "pycharm": {
     "name": "#%%\n"
    }
   },
   "outputs": [
    {
     "name": "stdout",
     "output_type": "stream",
     "text": [
      "[<strong class=\"text text-very-large\">R$ 295.000</strong>, <strong class=\"text text-very-large\">R$ 230</strong>, <strong class=\"text text-very-large\">R$ 240</strong>]\n",
      "[<div class=\"imovel-info-box-content\"> <h1 class=\"imovel-title\">Bela casa no Moradas Clube</h1> <div> <small>Ref.: 201234</small> </div> </div>, <div class=\"imovel-info-box-content notranslate\"> <p></p><p><strong>Nossa Senhora de Lourdes</strong></p><p>Santa Maria -  RS</p> </div>, <div class=\"imovel-info-box-content\"> <div class=\"imovel-header-item imovel-header-icon\"> <i class=\"imovel-icon far fa-house\"></i> <small class=\"text\">Área construída</small> <strong class=\"text\">96,14 m²</strong> </div> <div class=\"imovel-header-item imovel-header-icon\"> <i class=\"imovel-icon far fa-house-user\"></i> <small class=\"text\">Área privativa</small> <strong class=\"text\">76,46 m²</strong> </div> <div class=\"imovel-header-item imovel-header-icon\"> <i class=\"imovel-icon fas fa-ruler-combined\"></i> <small class=\"text\">Área útil</small> <strong class=\"text\">76,46 m²</strong> </div> <div class=\"imovel-header-item imovel-header-icon\"> <i class=\"imovel-icon fa fa-bed\"></i> <small class=\"text\">Quartos</small> <strong class=\"text\">3</strong> </div> <div class=\"imovel-header-item imovel-header-icon\"> <i class=\"imovel-icon fas fa-bath\"></i> <small class=\"text\">Banheiros</small> <strong class=\"text\">1</strong> </div> <div class=\"imovel-header-item imovel-header-icon\"> <i class=\"imovel-icon fa fa-car\"></i> <small class=\"text\">Vagas</small> <strong class=\"text\">1</strong> </div> </div>, <div class=\"imovel-info-box-content\"> <div class=\"imovel-header-item\"> <small class=\"text\">Venda (Financiável)</small> <strong class=\"text text-very-large\">R$ 295.000</strong> </div> <div class=\"imovel-header-item\"> <small class=\"text\">IPTU (anual)</small> <strong class=\"text text-very-large\">R$ 230</strong> </div> <div class=\"imovel-header-item\"> <small class=\"text\">Condomínio</small> <strong class=\"text text-very-large\">R$ 240</strong> </div> </div>]\n",
      "[<div class=\"list-group edge\"> <div class=\"list-group-item\"> <h3 class=\"section-subtitle\">Descrição</h3> <pre>Procurando casa com 3 dormitórios?\n",
      "Aqui você encontra uma bela casa em condomínio fechado, com ótima localização dentro do condomínio e com a vaga de garagem bem próxima!\n",
      "Agende hoje mesmo uma visita com nossos corretores.</pre> </div> <div class=\"list-group-item\"> <h3 class=\"section-subtitle\">Características</h3> <ul class=\"simple-list clear-fix\"> <li class=\"list-item\">Piso cerâmico</li> <li class=\"list-item\">Posição frente</li> <li class=\"list-item\">Semimobiliado</li> <li class=\"list-item\">Sol sul</li> </ul> </div> <div class=\"list-group-item\"> <h3 class=\"section-subtitle\">Comodidades</h3> <ul class=\"simple-list clear-fix\"> <li class=\"list-item\">Armário cozinha</li> <li class=\"list-item\">Banheiro social</li> <li class=\"list-item\">Churrasqueira</li> <li class=\"list-item\">Cozinha americana</li> <li class=\"list-item\">Espaço gourmet</li> <li class=\"list-item\">Móveis planejados</li> <li class=\"list-item\">Muro</li> <li class=\"list-item\">Pátio</li> </ul> </div> <div class=\"list-group-item\"> <h3 class=\"section-subtitle\">Infraestrutura do condomínio</h3> <ul class=\"simple-list clear-fix\"> <li class=\"list-item\">Acessibilidade para PNE</li> <li class=\"list-item\">Campo de futebol</li> <li class=\"list-item\">Cerca elétrica</li> <li class=\"list-item\">Churrasqueira coletiva</li> <li class=\"list-item\">Estacionamento</li> <li class=\"list-item\">Hidrômetro individual</li> <li class=\"list-item\">Interfone</li> <li class=\"list-item\">Internet</li> <li class=\"list-item\">Piscina</li> <li class=\"list-item\">Piscina infantil</li> <li class=\"list-item\">Playground</li> <li class=\"list-item\">Portão eletrônico</li> <li class=\"list-item\">Portaria 24h</li> <li class=\"list-item\">Salão de festas</li> <li class=\"list-item\">Segurança 24h</li> <li class=\"list-item\">Vídeo monitoramento</li> <li class=\"list-item\">Vigilância</li> <li class=\"list-item\">Zelador</li> </ul> </div> </div>]\n"
     ]
    }
   ],
   "source": [
    "# 13\n",
    "url = list(imoveis_venda)[2]\n",
    "resposta = requests.get(url, headers=agent)\n",
    "soup = BeautifulSoup(resposta.text, 'html')\n",
    "\n",
    "preco = soup.find_all('strong',{'class':'text text-very-large'})\n",
    "\n",
    "informacoes  = soup.find_all('div', {'class':'imovel-info-box-content'})\n",
    "\n",
    "informacoes2 = soup.find_all('div', {'class':'list-group edge'})\n",
    "\n",
    "spans = soup.find_all('span')\n",
    "\n",
    "\n",
    "print(preco)\n",
    "print(informacoes)\n",
    "print(informacoes2)"
   ]
  },
  {
   "cell_type": "code",
   "execution_count": null,
   "metadata": {
    "collapsed": false,
    "pycharm": {
     "name": "#%%\n"
    }
   },
   "outputs": [],
   "source": []
  }
 ],
 "metadata": {
  "kernelspec": {
   "display_name": "Python 3.8.10 64-bit",
   "language": "python",
   "name": "python3"
  },
  "language_info": {
   "codemirror_mode": {
    "name": "ipython",
    "version": 3
   },
   "file_extension": ".py",
   "mimetype": "text/x-python",
   "name": "python",
   "nbconvert_exporter": "python",
   "pygments_lexer": "ipython3",
   "version": "3.8.10"
  },
  "vscode": {
   "interpreter": {
    "hash": "916dbcbb3f70747c44a77c7bcd40155683ae19c65e1c03b4aa3499c5328201f1"
   }
  }
 },
 "nbformat": 4,
 "nbformat_minor": 0
}
